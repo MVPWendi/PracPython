{
 "cells": [
  {
   "cell_type": "markdown",
   "metadata": {},
   "source": [
    "## Задача 1"
   ]
  },
  {
   "cell_type": "code",
   "execution_count": 1,
   "metadata": {},
   "outputs": [
    {
     "name": "stdout",
     "output_type": "stream",
     "text": [
      "3\n",
      "1.3611111111111112\n"
     ]
    }
   ],
   "source": [
    "s = 0\n",
    "n = int(input())\n",
    "for i in range(1, n+1):\n",
    "    s += 1 / i**2\n",
    "print(s)"
   ]
  },
  {
   "cell_type": "markdown",
   "metadata": {},
   "source": [
    "## Задача 2"
   ]
  },
  {
   "cell_type": "code",
   "execution_count": 3,
   "metadata": {},
   "outputs": [
    {
     "name": "stdout",
     "output_type": "stream",
     "text": [
      "17.9\n",
      "0.9\n"
     ]
    }
   ],
   "source": [
    "a = float(input())\n",
    "print(round(a%1,2))"
   ]
  },
  {
   "cell_type": "markdown",
   "metadata": {},
   "source": [
    "## Задача 3"
   ]
  },
  {
   "cell_type": "code",
   "execution_count": 4,
   "metadata": {},
   "outputs": [
    {
     "name": "stdout",
     "output_type": "stream",
     "text": [
      "10.35\n",
      "10 35\n"
     ]
    }
   ],
   "source": [
    "from decimal import Decimal\n",
    "\n",
    "x = Decimal(input())\n",
    "a = int(x)\n",
    "b = int(100 * (x - a))\n",
    "print(a, b)  # => 40 80\n"
   ]
  },
  {
   "cell_type": "markdown",
   "metadata": {},
   "source": [
    "## Задача 4"
   ]
  },
  {
   "cell_type": "code",
   "execution_count": 5,
   "metadata": {},
   "outputs": [
    {
     "name": "stdout",
     "output_type": "stream",
     "text": [
      "2.3\n",
      "2\n"
     ]
    }
   ],
   "source": [
    "a = float(input())\n",
    "import math\n",
    "b = math.ceil(a)\n",
    "if b - a <=0.5:\n",
    "    print(math.ceil(a))\n",
    "else:\n",
    "    print(math.floor(a))"
   ]
  },
  {
   "cell_type": "markdown",
   "metadata": {},
   "source": [
    "## Задача 5"
   ]
  },
  {
   "cell_type": "code",
   "execution_count": 2,
   "metadata": {},
   "outputs": [
    {
     "name": "stdout",
     "output_type": "stream",
     "text": [
      "12\n",
      "179\n",
      "0\n",
      "200 48\n"
     ]
    }
   ],
   "source": [
    "p = int(input())\n",
    "x = int(input())\n",
    "y = int(input())\n",
    "money_before = 100 * x + y\n",
    "money_after = int(money_before * (100 + p) / 100)\n",
    "print(money_after // 100, money_after % 100)\n"
   ]
  },
  {
   "cell_type": "markdown",
   "metadata": {},
   "source": [
    "## Задача 6"
   ]
  },
  {
   "cell_type": "code",
   "execution_count": 4,
   "metadata": {},
   "outputs": [
    {
     "name": "stdout",
     "output_type": "stream",
     "text": [
      "12\n",
      "179\n",
      "0\n",
      "5\n",
      "315 43\n"
     ]
    }
   ],
   "source": [
    "p = int(input()) \n",
    "x = int(input())   \n",
    "y = int(input())   \n",
    "k = int(input())  \n",
    "\n",
    "sy = 100 * x + y \n",
    "\n",
    "for i in range(k):\n",
    "    sy += int(sy * p / 100)\n",
    "\n",
    "print(sy // 100, sy % 100)"
   ]
  },
  {
   "cell_type": "markdown",
   "metadata": {},
   "source": [
    "## Задача 7"
   ]
  },
  {
   "cell_type": "code",
   "execution_count": 6,
   "metadata": {},
   "outputs": [
    {
     "name": "stdout",
     "output_type": "stream",
     "text": [
      "1\n",
      "0.000\n",
      "1.000\n",
      "1.000\n",
      "1.0\n"
     ]
    }
   ],
   "source": [
    "n, x = int(input()), float(input())\n",
    "s = 0\n",
    "a = float(input())\n",
    "while n:\n",
    "    s *= x\n",
    "    s += a\n",
    "    a = float(input())\n",
    "    n = n - 1\n",
    "print(s)"
   ]
  },
  {
   "cell_type": "markdown",
   "metadata": {},
   "source": [
    "# Задача 8"
   ]
  },
  {
   "cell_type": "code",
   "execution_count": 7,
   "metadata": {},
   "outputs": [
    {
     "name": "stdout",
     "output_type": "stream",
     "text": [
      "1\n",
      "7\n",
      "9\n",
      "0\n",
      "4.163331998932266\n"
     ]
    }
   ],
   "source": [
    "from math import sqrt\n",
    " \n",
    "partial_sum = 0\n",
    "partial_sum_squares = 0\n",
    "x_i = int(input())\n",
    "n = 0\n",
    "while x_i != 0:\n",
    "    n += 1\n",
    "    partial_sum += x_i\n",
    "    partial_sum_squares += x_i ** 2\n",
    "    x_i = int(input())\n",
    "print(sqrt((partial_sum_squares - partial_sum ** 2 / n) / (n - 1)))\n"
   ]
  },
  {
   "cell_type": "markdown",
   "metadata": {},
   "source": [
    "## Задача 9"
   ]
  },
  {
   "cell_type": "code",
   "execution_count": 12,
   "metadata": {},
   "outputs": [
    {
     "name": "stdout",
     "output_type": "stream",
     "text": [
      "1\n",
      "-1\n",
      "-2\n",
      "-1.0\n",
      "2.0\n"
     ]
    }
   ],
   "source": [
    "import math\n",
    " \n",
    "a = float(input())\n",
    "b = float(input())\n",
    "c = float(input())\n",
    " \n",
    "discr = b ** 2 - 4 * a * c\n",
    " \n",
    "if discr > 0:\n",
    "    x1 = (-b + math.sqrt(discr)) / (2 * a)\n",
    "    x2 = (-b - math.sqrt(discr)) / (2 * a)\n",
    "    print(min(x1, x2))\n",
    "    print(max(x1, x2))\n",
    "elif discr == 0:\n",
    "    x = -b / (2 * a)\n",
    "    print(x)\n",
    "else:\n",
    "    print()"
   ]
  },
  {
   "cell_type": "markdown",
   "metadata": {},
   "source": [
    "## Задача 10"
   ]
  },
  {
   "cell_type": "code",
   "execution_count": 14,
   "metadata": {},
   "outputs": [
    {
     "name": "stdout",
     "output_type": "stream",
     "text": [
      "1\n",
      "-1\n",
      "-2\n",
      "2 -1.0 2.0\n"
     ]
    }
   ],
   "source": [
    "import math\n",
    "a = float(input())\n",
    "b = float(input())\n",
    "c = float(input()) \n",
    "di = b**2 - 4 * a * c;\n",
    "if di > 0:  \n",
    "    x1 = (-b + math.sqrt(di)) / (2 * a)\n",
    "    x2 = (-b - math.sqrt(di)) / (2 * a)\n",
    "elif di == 0:\n",
    "    x = -b / (2 * a)\n",
    "    print(1,x)\n",
    "else:\n",
    "    print(0)\n",
    "if di > 0 and x1 < x2:\n",
    "        print(2,x1,x2)\n",
    "else:    \n",
    "        print(2,x2,x1)"
   ]
  },
  {
   "cell_type": "markdown",
   "metadata": {},
   "source": [
    "## Задача 11"
   ]
  },
  {
   "cell_type": "code",
   "execution_count": 15,
   "metadata": {},
   "outputs": [
    {
     "name": "stdout",
     "output_type": "stream",
     "text": [
      "1\n",
      "0\n",
      "0\n",
      "1\n",
      "3\n",
      "3\n",
      "3.0 3.0\n"
     ]
    }
   ],
   "source": [
    "a = float(input())\n",
    "b = float(input())\n",
    "c = float(input())\n",
    "d = float(input())\n",
    "e = float(input())\n",
    "f = float(input())\n",
    "if b != 0:\n",
    "    y = (c * e - a * f) / (b * c - a * d)\n",
    "    if c != 0:\n",
    "        x = (f - d * y) / c\n",
    "        print(x, y)\n",
    "else:\n",
    "    if a != 0:\n",
    "        x = (f * b - d * e) / (b * c - d * a)\n",
    "        if d != 0:\n",
    "            y = (f - c * x) / d\n",
    "            print(x, y)"
   ]
  },
  {
   "cell_type": "markdown",
   "metadata": {},
   "source": [
    "## Задача 12"
   ]
  },
  {
   "cell_type": "code",
   "execution_count": 16,
   "metadata": {},
   "outputs": [
    {
     "name": "stdout",
     "output_type": "stream",
     "text": [
      "1\n",
      "0\n",
      "0\n",
      "1\n",
      "3\n",
      "3\n",
      "2 3.0 3.0\n"
     ]
    }
   ],
   "source": [
    "a = float(input())\n",
    "b = float(input())\n",
    "c = float(input())\n",
    "d = float(input())\n",
    "e = float(input())\n",
    "f = float(input())\n",
    "if a == 0 and b == 0 and c == 0 and d == 0 and e == 0 and f == 0:\n",
    "    print(5)\n",
    "elif a * d == b * c and a * f != c * e:\n",
    "    print(0)\n",
    "elif a == 0 and b == 0 and e != 0:\n",
    "    print(0)\n",
    "elif c == 0 and d == 0 and f != 0:\n",
    "    print(0)\n",
    "elif a == 0 and c == 0 and b * f != d * e:\n",
    "    print(0)\n",
    "elif b == 0 and d == 0 and a * f != c * e:\n",
    "    print(0)\n",
    "elif a * d == b * c and a * f == c * e:\n",
    "    if b == 0 and d == 0:\n",
    "        if a != 0 and c != 0:\n",
    "            print(3, e / a)\n",
    "        elif a == 0:\n",
    "            if e == 0:\n",
    "                print(3, f / c)\n",
    "        elif c == 0:\n",
    "            if f == 0:\n",
    "                print(3, e / a)\n",
    "    elif a == 0 and c == 0:\n",
    "        if b != 0:\n",
    "            print(4, e / b)\n",
    "        elif d != 0:\n",
    "            print(4, f / d)\n",
    "    elif b != 0:\n",
    "        print(1, -a / b, e / b)\n",
    "    elif d != 0:\n",
    "        print(1, -c / d, f / d)\n",
    "else:\n",
    "    x = (e * d - b * f) / (a * d - b * c)\n",
    "    y = (a * f - e * c) / (a * d - b * c)\n",
    "    print(2, x, y)"
   ]
  },
  {
   "cell_type": "markdown",
   "metadata": {},
   "source": [
    "## Задача 13"
   ]
  },
  {
   "cell_type": "code",
   "execution_count": 17,
   "metadata": {},
   "outputs": [
    {
     "name": "stdout",
     "output_type": "stream",
     "text": [
      "Abrakadabra\n",
      "r\n",
      "r\n",
      "Abra\n",
      "Abrakadab\n",
      "Arkdba\n",
      "baaar\n",
      "arbadakarbA\n",
      "abdkrA\n",
      "11\n"
     ]
    }
   ],
   "source": [
    "s = input()\n",
    "print(s[2])\n",
    "print(s[-2])\n",
    "print(s[:4])\n",
    "print(s[:-2])\n",
    "print(s[::2])\n",
    "print(s[1::2])\n",
    "print(s[::-1])\n",
    "print(s[::-2])\n",
    "print(len(s))"
   ]
  },
  {
   "cell_type": "markdown",
   "metadata": {},
   "source": [
    "## Задача 14"
   ]
  },
  {
   "cell_type": "code",
   "execution_count": 18,
   "metadata": {},
   "outputs": [
    {
     "name": "stdout",
     "output_type": "stream",
     "text": [
      "comfort\n",
      "3\n"
     ]
    }
   ],
   "source": [
    "s = input()\n",
    "a = s.find('f')\n",
    "b = s.rfind('f')\n",
    "if a == -1:\n",
    "    print()\n",
    "elif a == b:\n",
    "    print(a)\n",
    "else:\n",
    "    print(a, b)"
   ]
  },
  {
   "cell_type": "markdown",
   "metadata": {},
   "source": [
    "## Задача 15"
   ]
  },
  {
   "cell_type": "code",
   "execution_count": 19,
   "metadata": {},
   "outputs": [
    {
     "name": "stdout",
     "output_type": "stream",
     "text": [
      "In the hole in the ground there lived a hobbit\n",
      "In tobbit\n"
     ]
    }
   ],
   "source": [
    "s = input()\n",
    "s = s[:s.find('h')] + s[s.rfind('h') + 1:]\n",
    "print(s)"
   ]
  },
  {
   "cell_type": "markdown",
   "metadata": {},
   "source": [
    "## Задача 16"
   ]
  },
  {
   "cell_type": "code",
   "execution_count": 12,
   "metadata": {
    "scrolled": true
   },
   "outputs": [
    {
     "name": "stdout",
     "output_type": "stream",
     "text": [
      "In the hole in the ground there lived a hobbit\n"
     ]
    },
    {
     "data": {
      "text/plain": [
       "'In the hole in the ground there lived a e hole in the ground there lived a h'"
      ]
     },
     "execution_count": 12,
     "metadata": {},
     "output_type": "execute_result"
    }
   ],
   "source": [
    "s = input()\n",
    "s[:s.find('h')+1] + s[s.find('h')+1:s.rfind('h')]*2 + s[s.rfind('h')]"
   ]
  },
  {
   "cell_type": "markdown",
   "metadata": {},
   "source": [
    "## Задача 17"
   ]
  },
  {
   "cell_type": "code",
   "execution_count": 20,
   "metadata": {},
   "outputs": [
    {
     "name": "stdout",
     "output_type": "stream",
     "text": [
      "comfort\n",
      "-1\n"
     ]
    }
   ],
   "source": [
    "s = input()\n",
    "if s.count('f') == 1:\n",
    "    print(-1)\n",
    "elif s.count('f') < 1:\n",
    "    print(-2)\n",
    "else:\n",
    "    print(s.find('f', s.find('f') + 1))"
   ]
  },
  {
   "cell_type": "markdown",
   "metadata": {},
   "source": [
    "## Задача 18"
   ]
  },
  {
   "cell_type": "code",
   "execution_count": 1,
   "metadata": {},
   "outputs": [
    {
     "name": "stdout",
     "output_type": "stream",
     "text": [
      "Hello, world!\n",
      "world! Hello,\n"
     ]
    }
   ],
   "source": [
    "s = input()\n",
    "first_word = s[:s.find(' ')]\n",
    "second_word = s[s.find(' ') + 1:]\n",
    "print(second_word + ' ' + first_word)"
   ]
  },
  {
   "cell_type": "markdown",
   "metadata": {},
   "source": [
    "## Задача 19"
   ]
  },
  {
   "cell_type": "code",
   "execution_count": 2,
   "metadata": {},
   "outputs": [
    {
     "name": "stdout",
     "output_type": "stream",
     "text": [
      "Hello world\n",
      "2\n"
     ]
    }
   ],
   "source": [
    "print(input().count(' ') + 1)"
   ]
  },
  {
   "cell_type": "markdown",
   "metadata": {},
   "source": [
    "## Задача 20"
   ]
  },
  {
   "cell_type": "code",
   "execution_count": 6,
   "metadata": {},
   "outputs": [
    {
     "name": "stdout",
     "output_type": "stream",
     "text": [
      "1+1=2\n",
      "one+one=2\n"
     ]
    }
   ],
   "source": [
    "print(input().replace('1', 'one'))"
   ]
  },
  {
   "cell_type": "markdown",
   "metadata": {},
   "source": [
    "## Задача 21"
   ]
  },
  {
   "cell_type": "code",
   "execution_count": 7,
   "metadata": {},
   "outputs": [
    {
     "name": "stdout",
     "output_type": "stream",
     "text": [
      "Bilbo.Baggins@bagend.hobbiton.shire.me\n",
      "Bilbo.Bagginsbagend.hobbiton.shire.me\n"
     ]
    }
   ],
   "source": [
    "print(input().replace('@', ''))"
   ]
  },
  {
   "cell_type": "markdown",
   "metadata": {},
   "source": [
    "## Задача 22"
   ]
  },
  {
   "cell_type": "code",
   "execution_count": 8,
   "metadata": {},
   "outputs": [
    {
     "name": "stdout",
     "output_type": "stream",
     "text": [
      "In the hole in the ground there lived a hobbit\n",
      "In the Hole in tHe ground tHere lived a hobbit\n"
     ]
    }
   ],
   "source": [
    "s = input()\n",
    "a = s[:s.find('h') + 1] \n",
    "b = s[s.find('h') + 1:s.rfind('h')]\n",
    "c = s[s.rfind('h'):]\n",
    "s = a + b.replace('h', 'H') + c\n",
    "print(s)"
   ]
  },
  {
   "cell_type": "markdown",
   "metadata": {},
   "source": [
    "## Задача 23"
   ]
  },
  {
   "cell_type": "code",
   "execution_count": 9,
   "metadata": {},
   "outputs": [
    {
     "name": "stdout",
     "output_type": "stream",
     "text": [
      "Python\n",
      "P*y*t*h*o*n\n"
     ]
    }
   ],
   "source": [
    "print(\"*\".join(input()))\n"
   ]
  },
  {
   "cell_type": "markdown",
   "metadata": {},
   "source": [
    "## Задача 24"
   ]
  },
  {
   "cell_type": "code",
   "execution_count": 10,
   "metadata": {},
   "outputs": [
    {
     "name": "stdout",
     "output_type": "stream",
     "text": [
      "Python\n",
      "yton\n"
     ]
    }
   ],
   "source": [
    "s = input()\n",
    "t = ''\n",
    "for i in range(len(s)):\n",
    "    if i % 3 != 0:\n",
    "        t = t + s[i]\n",
    "print(t)"
   ]
  },
  {
   "cell_type": "code",
   "execution_count": null,
   "metadata": {},
   "outputs": [],
   "source": []
  }
 ],
 "metadata": {
  "kernelspec": {
   "display_name": "Python 3",
   "language": "python",
   "name": "python3"
  },
  "language_info": {
   "codemirror_mode": {
    "name": "ipython",
    "version": 3
   },
   "file_extension": ".py",
   "mimetype": "text/x-python",
   "name": "python",
   "nbconvert_exporter": "python",
   "pygments_lexer": "ipython3",
   "version": "3.7.6"
  }
 },
 "nbformat": 4,
 "nbformat_minor": 4
}
